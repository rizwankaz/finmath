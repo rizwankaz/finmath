{
 "cells": [
  {
   "cell_type": "markdown",
   "metadata": {},
   "source": [
    "# Pricing Options using Julia\n",
    "\n",
    "With the programs below, I price European calls and puts using several options pricing models. This was a definitely a pedagogical exercise: at some point: you have to admit that pricing in 0.2 seconds is just good enough regardless of the intricacies of the model. Regardless, I go through multiple so as to compare runtime and implement in Julia."
   ]
  },
  {
   "cell_type": "markdown",
   "metadata": {},
   "source": [
    "## Parameters of interest\n",
    "\n",
    "Let's consider a stock with underlying price $S$ with volatility $σ$ and an option with strike price $K$ and maturity $T$. The risk-free rate is $r$."
   ]
  },
  {
   "cell_type": "code",
   "execution_count": 1,
   "metadata": {},
   "outputs": [],
   "source": [
    "S = 100.0  # Underlying price\n",
    "σ = 0.2    # Volatility\n",
    "K = 100.0  # Strike price\n",
    "T = 1.0    # Maturity\n",
    "r = 0.05;   # Risk-free rate"
   ]
  },
  {
   "cell_type": "markdown",
   "metadata": {},
   "source": [
    "## Monte-Carlo Simulation\n",
    "\n",
    "The cop-out.\n",
    "\n",
    "### Theory\n",
    "\n",
    "We assume that $S$ follows a geometric Brownian motion so that $$dS = μS dt + σS dW,$$ where $μ$ is the drift, $σ$ is the volatility, and $W$ is a standard Brownian motion.\n",
    "\n",
    "Everything happens from this stochastic differential equation. Since we use the risk-neutral measure for pricing, we replace the actual drift $μ$ with $r$. We then discretize the continuous-time geometric Brownian motion into $N$ time steps, in the form $$S(t+dt) = S(t) * \\exp((r-\\frac{1}{2}σ^2)dt + σ \\sqrt{dt} * \\epsilon),$$ where $\\epsilon$ is a standard normal random variable.\n",
    "\n",
    "Recall how option payoff works: a call makes $\\max(S_T - K, 0)$ and and a put makes $\\max(K - S_T, 0)$, where $S_T$ is the price at $T$. Option price is then given by $$p = \\exp(-rT) * E[\\text{Payoff}].$$\n",
    "\n",
    "How do we determine $E[\\text{Payoff}]$, you ask? Easy. We run $M$ price paths, each with $N$ time steps, noting each resulting price and the resultant option payoff. Then we just average and discount. This is incredibly simple to implement and very accurate, at the cost of computation."
   ]
  },
  {
   "cell_type": "code",
   "execution_count": 2,
   "metadata": {},
   "outputs": [],
   "source": [
    "include(\"mc.jl\");"
   ]
  },
  {
   "cell_type": "code",
   "execution_count": 3,
   "metadata": {},
   "outputs": [
    {
     "name": "stdout",
     "output_type": "stream",
     "text": [
      "Call option:   0.565439 seconds (6 allocations: 1.526 MiB)\n",
      "Put option:   0.548978 seconds (6 allocations: 1.526 MiB)\n",
      "Call price using Monte-Carlo Simulation: 10.500399028446068\n",
      "Put price using Monte-Carlo Simulation: 5.596613101097004\n"
     ]
    }
   ],
   "source": [
    "N = 1000 # Time steps\n",
    "M = 100000 # Paths\n",
    "\n",
    "MC.call(S, K, T, r, σ, N, M)\n",
    "MC.put(S, K, T, r, σ, N, M)\n",
    "\n",
    "print(\"Call option: \")\n",
    "@time MCcall_price = MC.call(S, K, T, r, σ, N, M)\n",
    "MCcall_memory = @allocated MC.call(S, K, T, r, σ, N, M)\n",
    "\n",
    "print(\"Put option: \")\n",
    "@time MCput_price = MC.put(S, K, T, r, σ, N, M)\n",
    "MCput_memory = @allocated MC.put(S, K, T, r, σ, N, M)\n",
    "\n",
    "println(\"Call price using Monte-Carlo Simulation: \", MCcall_price)\n",
    "println(\"Put price using Monte-Carlo Simulation: \", MCput_price)"
   ]
  },
  {
   "cell_type": "markdown",
   "metadata": {},
   "source": [
    "## Black-Scholes\n",
    "\n",
    "The supposed industry standard.\n",
    "\n",
    "### Theory\n",
    "\n",
    "Go read Black and Scholes, 1973 \"The Pricing of Options and Corporate Liabilities\" if you really want.\n",
    "\n",
    "We again assume $S$ follows a geometric Brownian motion with constant drift and volatility (that SDE will show up quite a lot).\n",
    "\n",
    "The formula for the price of a call option $C$ is $$C = S * N(d_+) - K * \\exp(-rT) * N(d_-),$$ and the formula for the price of a put option $P$ is $$P = K * \\exp(-rT) * N(-d_-) - S * N(-d_+),$$ where $N(x)$ is the cumulative distribution function of the standard normal distribution and $$d_+=\\frac{1}{\\sigma\\sqrt{T}}(\\ln(\\frac{S}{K})+(r+\\frac{\\sigma^2}{2})T),$$ $$d_-=d_+ - \\sigma\\sqrt{T}.$$"
   ]
  },
  {
   "cell_type": "code",
   "execution_count": 4,
   "metadata": {},
   "outputs": [],
   "source": [
    "include(\"bs.jl\");"
   ]
  },
  {
   "cell_type": "code",
   "execution_count": 5,
   "metadata": {},
   "outputs": [
    {
     "name": "stdout",
     "output_type": "stream",
     "text": [
      "Call option:   0.000004 seconds (2 allocations: 32 bytes)\n",
      "Put option:   0.000003 seconds (2 allocations: 32 bytes)\n",
      "Call price using Black-Scholes: 10.450583572185565\n",
      "Put price using Black-Scholes: 5.573526022256971\n"
     ]
    }
   ],
   "source": [
    "BS.call(S, K, T, r, σ)\n",
    "BS.put(S, K, T, r, σ)\n",
    "\n",
    "print(\"Call option: \")\n",
    "@time BScall_price = BS.call(S, K, T, r, σ)\n",
    "BScall_memory = @allocated BS.call(S, K, T, r, σ)\n",
    "\n",
    "print(\"Put option: \")\n",
    "@time BSput_price = BS.put(S, K, T, r, σ)\n",
    "BSput_memory = @allocated BS.put(S, K, T, r, σ)\n",
    "\n",
    "println(\"Call price using Black-Scholes: \", BScall_price)\n",
    "println(\"Put price using Black-Scholes: \", BSput_price)"
   ]
  },
  {
   "cell_type": "markdown",
   "metadata": {},
   "source": [
    "## Binomial Options Pricing Models"
   ]
  },
  {
   "cell_type": "markdown",
   "metadata": {},
   "source": [
    "### Cox-Ross-Rubinstein\n",
    "\n",
    "Discrete Black-Scholes.\n",
    "\n",
    "#### Theory\n",
    "\n",
    "This formalization is from Cox, Ross, and Rubinstein 1979 \"Option pricing: A simplified approach.\" \n",
    "\n",
    "Over a small time interval, $S$ can either move up by a factor $u$ or down by a factor $d$, with probabilities $p$ and $1-p$ respectively. As the number of time steps increases, this process converges to the continuous-time geometric Brownian motion assumed above.\n",
    "\n",
    "Key parameters in addition to the ones above are $\\delta t=\\frac{T}{N}$, the length of each time step, $u=\\exp(\\sigma*\\sqrt{\\delta t})$, $d=1/u$, and $p=\\frac{\\exp(r*\\delta t)-d}{u-d}$. Note that by construction, $u*d=1$. Essentially, we construct a tree, work backwards, and then discount."
   ]
  },
  {
   "cell_type": "code",
   "execution_count": 6,
   "metadata": {},
   "outputs": [],
   "source": [
    "include(\"crr.jl\");"
   ]
  },
  {
   "cell_type": "code",
   "execution_count": 8,
   "metadata": {},
   "outputs": [
    {
     "name": "stdout",
     "output_type": "stream",
     "text": [
      "Call option:   0.005532 seconds (6.00 k allocations: 24.152 MiB, 47.63% gc time)\n",
      "Put option:   0.003763 seconds (6.00 k allocations: 24.152 MiB, 53.91% gc time)\n",
      "Call price using Cox-Ross-Rubinstein: 10.448584103764572\n",
      "Put price using Cox-Ross-Rubinstein: 5.57152655383368\n"
     ]
    }
   ],
   "source": [
    "N = 1000 # Time steps\n",
    "\n",
    "CRR.call(S, K, T, r, σ, N)\n",
    "CRR.put(S, K, T, r, σ, N)\n",
    "\n",
    "print(\"Call option: \")\n",
    "@time CRRcall_price = CRR.call(S, K, T, r, σ, N)\n",
    "CRRcall_memory = @allocated CRR.call(S, K, T, r, σ, N)\n",
    "\n",
    "print(\"Put option: \")\n",
    "@time CRRput_price = CRR.put(S, K, T, r, σ, N)\n",
    "CRRput_memory = @allocated CRR.put(S, K, T, r, σ, N)\n",
    "\n",
    "println(\"Call price using Cox-Ross-Rubinstein: \", CRRcall_price)\n",
    "println(\"Put price using Cox-Ross-Rubinstein: \", CRRput_price)"
   ]
  },
  {
   "cell_type": "markdown",
   "metadata": {},
   "source": [
    "### Jarrow-Rudd\n",
    "\n",
    "Equal-probability BOPM.\n",
    "\n",
    "#### Theory\n",
    "\n",
    "This comes from Jarrow and Rudd 1983 \"Option Pricing.\"\n",
    "\n",
    "Just as Cox-Ross-Rubinstein, we discretize. Again, $\\delta t=\\frac{T}{N}$ is length of time step, but $u=\\exp((r - 0.5σ^2) * δt + σ * \\sqrt{δt})$, $d=\\exp((r - 0.5σ^2) * δt - σ * \\sqrt{δt})$, and $p=0.5$."
   ]
  },
  {
   "cell_type": "code",
   "execution_count": 9,
   "metadata": {},
   "outputs": [],
   "source": [
    "include(\"jr.jl\");"
   ]
  },
  {
   "cell_type": "code",
   "execution_count": null,
   "metadata": {},
   "outputs": [],
   "source": [
    "N = 1000 # Time steps\n",
    "\n",
    "JR.call(S, K, T, r, σ, N)\n",
    "JR.put(S, K, T, r, σ, N)\n",
    "\n",
    "print(\"Call option: \")\n",
    "@time JRcall_price = JR.call(S, K, T, r, σ, N)\n",
    "CRRcall_memory = @allocated JR.call(S, K, T, r, σ, N)\n",
    "\n",
    "print(\"Put option: \")\n",
    "@time JRput_price = JR.put(S, K, T, r, σ, N)\n",
    "JRput_memory = @allocated JR.put(S, K, T, r, σ, N)\n",
    "\n",
    "println(\"Call price using Jarrow-Rudd: \", JRcall_price)\n",
    "println(\"Put price using Jarrow-Rudd: \", JRput_price)"
   ]
  }
 ],
 "metadata": {
  "kernelspec": {
   "display_name": "Julia 1.10.4",
   "language": "julia",
   "name": "julia-1.10"
  },
  "language_info": {
   "file_extension": ".jl",
   "mimetype": "application/julia",
   "name": "julia",
   "version": "1.10.4"
  }
 },
 "nbformat": 4,
 "nbformat_minor": 2
}
